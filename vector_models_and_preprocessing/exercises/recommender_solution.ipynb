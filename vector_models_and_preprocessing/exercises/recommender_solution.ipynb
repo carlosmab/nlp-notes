{
 "cells": [
  {
   "cell_type": "markdown",
   "metadata": {},
   "source": [
    "Exercise Prompt Hints\n",
    "- Key step: how to combine movie data into a single string\n",
    "- Recall TfidfVectorizer expects one string per 'document'\n",
    "- Transform (into a vectors) the strings using TF-IDF\n",
    "- Assume the query is always an existing movie in the database\n",
    "- E.g. query = \"Scream 3\", then recommend other movies based on this\n",
    "- Get the TF-IDF representation of Scream 3\n",
    "- Compute similarity between Scream 3 and all other vectors\n",
    "- Sort by similarity\n",
    "- Print out the top 5 closest movies\n",
    "- Try movies from other genres"
   ]
  },
  {
   "cell_type": "code",
   "execution_count": null,
   "metadata": {},
   "outputs": [],
   "source": [
    "# Gathering data\n",
    "!wget https://lazyprogrammer.me/course_files/nlp/tmdb_5000_movies.csv"
   ]
  },
  {
   "cell_type": "code",
   "execution_count": null,
   "metadata": {
    "metadata": {}
   },
   "outputs": [],
   "source": [
    "# creating data frame\n",
    "import numpy as np\n",
    "import pandas as pd\n",
    "\n",
    "df = pd.read_csv('tmdb_5000_movies.csv')\n",
    "df.head()"
   ]
  },
  {
   "cell_type": "code",
   "execution_count": 2,
   "metadata": {
    "metadata": {}
   },
   "outputs": [
    {
     "name": "stdout",
     "output_type": "stream",
     "text": [
      "[{\"id\": 28, \"name\": \"Action\"}, {\"id\": 12, \"name\": \"Adventure\"}, {\"id\": 14, \"name\": \"Fantasy\"}, {\"id\": 878, \"name\": \"Science Fiction\"}]\n",
      "[{\"id\": 1463, \"name\": \"culture clash\"}, {\"id\": 2964, \"name\": \"future\"}, {\"id\": 3386, \"name\": \"space war\"}, {\"id\": 3388, \"name\": \"space colony\"}, {\"id\": 3679, \"name\": \"society\"}, {\"id\": 3801, \"name\": \"space travel\"}, {\"id\": 9685, \"name\": \"futuristic\"}, {\"id\": 9840, \"name\": \"romance\"}, {\"id\": 9882, \"name\": \"space\"}, {\"id\": 9951, \"name\": \"alien\"}, {\"id\": 10148, \"name\": \"tribe\"}, {\"id\": 10158, \"name\": \"alien planet\"}, {\"id\": 10987, \"name\": \"cgi\"}, {\"id\": 11399, \"name\": \"marine\"}, {\"id\": 13065, \"name\": \"soldier\"}, {\"id\": 14643, \"name\": \"battle\"}, {\"id\": 14720, \"name\": \"love affair\"}, {\"id\": 165431, \"name\": \"anti war\"}, {\"id\": 193554, \"name\": \"power relations\"}, {\"id\": 206690, \"name\": \"mind and soul\"}, {\"id\": 209714, \"name\": \"3d\"}]\n"
     ]
    }
   ],
   "source": [
    "# extracting strings example\n",
    "\n",
    "x = df.iloc[0]\n",
    "print(x['genres'])\n",
    "print(x['keywords'])\n"
   ]
  },
  {
   "cell_type": "code",
   "execution_count": 5,
   "metadata": {
    "metadata": {}
   },
   "outputs": [
    {
     "name": "stdout",
     "output_type": "stream",
     "text": [
      "Action Adventure Fantasy ScienceFiction\n"
     ]
    }
   ],
   "source": [
    "# Json dumps\n",
    "import json\n",
    "\n",
    "genres_json = json.loads(x['genres'])\n",
    "# Double join to join multiword genres as single word\n",
    "genres_string = \" \".join([\"\".join(genre['name'].split()) for genre in genres_json])\n",
    "print(genres_string)\n"
   ]
  },
  {
   "cell_type": "code",
   "execution_count": 8,
   "metadata": {
    "metadata": {}
   },
   "outputs": [],
   "source": [
    "# Getting genres and keywords\n",
    "\n",
    "def genres_keywords_to_string(row):\n",
    "    \n",
    "    genres_json = json.loads(row['genres'])\n",
    "    genres_string = \" \".join([\"\".join(genre['name'].split()) for genre in genres_json])\n",
    "    \n",
    "    keywords_json = json.loads(row['keywords'])\n",
    "    keywords_string = \" \".join([\"\".join(keyword['name'].split()) for keyword in keywords_json])\n",
    "    \n",
    "    return \"%s %s\" % (genres_string, keywords_string)\n",
    "    \n"
   ]
  },
  {
   "cell_type": "code",
   "execution_count": 9,
   "metadata": {
    "metadata": {}
   },
   "outputs": [],
   "source": [
    "# Create string representation of each movie    \n",
    "\n",
    "df[\"movie_string\"] = df.apply(genres_keywords_to_string, axis=1)"
   ]
  },
  {
   "cell_type": "code",
   "execution_count": 10,
   "metadata": {
    "metadata": {}
   },
   "outputs": [],
   "source": [
    "# Create tfidf vectorizer object\n",
    "from sklearn.feature_extraction.text import TfidfVectorizer\n",
    "\n",
    "tfidf = TfidfVectorizer(max_features=2000) # 2000 most common words in the corpus"
   ]
  },
  {
   "cell_type": "code",
   "execution_count": 11,
   "metadata": {
    "metadata": {}
   },
   "outputs": [
    {
     "data": {
      "text/plain": [
       "(4803, 2000)"
      ]
     },
     "execution_count": 11,
     "metadata": {},
     "output_type": "execute_result"
    }
   ],
   "source": [
    "# Create tfidf matrix\n",
    "tfidf_matrix = tfidf.fit_transform(df[\"movie_string\"])\n",
    "tfidf_matrix.shape"
   ]
  },
  {
   "cell_type": "code",
   "execution_count": 14,
   "metadata": {
    "metadata": {}
   },
   "outputs": [
    {
     "data": {
      "text/plain": [
       "title\n",
       "Avatar                                      0\n",
       "Pirates of the Caribbean: At World's End    1\n",
       "Spectre                                     2\n",
       "The Dark Knight Rises                       3\n",
       "John Carter                                 4\n",
       "dtype: int64"
      ]
     },
     "execution_count": 14,
     "metadata": {},
     "output_type": "execute_result"
    }
   ],
   "source": [
    "# Create mapping from movie title to index\n",
    "movie_to_index = pd.Series(df.index, index=df[\"title\"])\n",
    "movie_to_index.head()"
   ]
  },
  {
   "cell_type": "code",
   "execution_count": 20,
   "metadata": {
    "metadata": {}
   },
   "outputs": [
    {
     "data": {
      "text/plain": [
       "[<matplotlib.lines.Line2D at 0x797197a99810>]"
      ]
     },
     "execution_count": 20,
     "metadata": {},
     "output_type": "execute_result"
    },
    {
     "data": {
      "image/png": "[encoded data removed]",
      "text/plain": [
       "<Figure size 640x480 with 1 Axes>"
      ]
     },
     "metadata": {},
     "output_type": "display_data"
    }
   ],
   "source": [
    "# Testing\n",
    "from sklearn.metrics.pairwise import cosine_similarity\n",
    "from matplotlib import pyplot as plt\n",
    "\n",
    "idx = movie_to_index[\"The Matrix\"]\n",
    "query = tfidf_matrix[idx]\n",
    "\n",
    "# Using cosine similarity\n",
    "scores = cosine_similarity(query, tfidf_matrix)\n",
    "scores = scores.flatten() # flatten to 1D array\n",
    "plt.plot(scores)\n"
   ]
  },
  {
   "cell_type": "code",
   "execution_count": 21,
   "metadata": {
    "metadata": {}
   },
   "outputs": [
    {
     "data": {
      "text/plain": [
       "[<matplotlib.lines.Line2D at 0x797197968690>]"
      ]
     },
     "execution_count": 21,
     "metadata": {},
     "output_type": "execute_result"
    },
    {
     "data": {
      "image/png": "[encoded data removed]",
      "text/plain": [
       "<Figure size 640x480 with 1 Axes>"
      ]
     },
     "metadata": {},
     "output_type": "display_data"
    }
   ],
   "source": [
    "# Sorting the scores descending\n",
    "plt.plot(scores[(-scores).argsort()])"
   ]
  },
  {
   "cell_type": "code",
   "execution_count": 23,
   "metadata": {
    "metadata": {}
   },
   "outputs": [
    {
     "data": {
      "text/plain": [
       "125                    The Matrix Reloaded\n",
       "123                 The Matrix Revolutions\n",
       "2484                  The Thirteenth Floor\n",
       "93      Terminator 3: Rise of the Machines\n",
       "1725                          Blade Runner\n",
       "Name: title, dtype: object"
      ]
     },
     "execution_count": 23,
     "metadata": {},
     "output_type": "execute_result"
    }
   ],
   "source": [
    "# Get top 5 similar movies\n",
    "recommended_idxs = (-scores).argsort()[1:6]\n",
    "df[\"title\"].iloc[recommended_idxs]"
   ]
  },
  {
   "cell_type": "code",
   "execution_count": 36,
   "metadata": {
    "metadata": {}
   },
   "outputs": [],
   "source": [
    "# Refactorting\n",
    "\n",
    "class TfidfRecommender:    \n",
    "    def __init__(self, df, columns=[\"genres\", \"keywords\"], max_keywords=2000):\n",
    "        self.df = df\n",
    "        self.columns = columns\n",
    "        self.tfidf = TfidfVectorizer(max_features=max_keywords)\n",
    "        self.__create_tfidf_matrix()\n",
    "        self.__create_movie_to_index()\n",
    "        \n",
    "    def __columns_to_string(self, row):\n",
    "        movie_string = \"\"\n",
    "        for column in self.columns:\n",
    "            movie_string += \" \" + \" \".join([\"\".join(genre['name'].split()) for genre in json.loads(row[column])])\n",
    "        return movie_string\n",
    "    \n",
    "    def __create_movie_strings(self):\n",
    "        self.df[\"movie_string\"] = self.df.apply(self.__columns_to_string, axis=1)\n",
    "    \n",
    "    def __create_tfidf_matrix(self):\n",
    "        self.__create_movie_strings()\n",
    "        self.tfidf_matrix = self.tfidf.fit_transform(self.df[\"movie_string\"])\n",
    "    \n",
    "    def __create_movie_to_index(self):\n",
    "        self.movie_to_index = pd.Series(self.df.index, index=self.df[\"title\"])\n",
    "        \n",
    "    def __get_movie_index(self, movie_title):\n",
    "        if type(self.movie_to_index[movie_title]) == pd.Series:\n",
    "            return self.movie_to_index[movie_title].iloc[0]\n",
    "        return self.movie_to_index[movie_title]\n",
    "    \n",
    "    def __get_query_vector(self, movie_title):\n",
    "        idx = self.__get_movie_index(movie_title)\n",
    "        return self.tfidf_matrix[idx]\n",
    "        \n",
    "    def get_recommendations(self, movie_title, n_recommendations):\n",
    "        query_vector = self.__get_query_vector(movie_title)\n",
    "        \n",
    "        scores = cosine_similarity(query_vector, self.tfidf_matrix)\n",
    "        movie_indices = (-scores).flatten().argsort()[1:n_recommendations + 1]\n",
    "        recommended_movies = [self.df.iloc[i][\"title\"] for i in movie_indices]\n",
    "        return recommended_movies\n",
    "        "
   ]
  },
  {
   "cell_type": "code",
   "execution_count": 42,
   "metadata": {
    "metadata": {}
   },
   "outputs": [
    {
     "name": "stdout",
     "output_type": "stream",
     "text": [
      "['The Matrix Reloaded', 'The Matrix Revolutions', 'The Thirteenth Floor', 'Terminator 3: Rise of the Machines', 'Blade Runner']\n",
      "['10th & Wolf', \"Gangster's Paradise: Jerusalema\", 'Down Terrace', 'Black Mass', 'Safe Men']\n",
      "['The Dark Knight', 'Batman Begins', 'Arbitrage', 'Batman & Robin', 'Kick-Ass 2']\n",
      "['Quantum of Solace', 'Die Another Day', 'Skyfall', 'Restless', 'Ong Bak 2']\n",
      "['Toy Story 3', 'Ted', 'Toy Story 2', 'Pinocchio', 'Meet the Deedles']\n",
      "['House of D', 'My Big Fat Greek Wedding 2', 'It Happened One Night', 'An Education', 'Our Family Wedding']\n"
     ]
    }
   ],
   "source": [
    "# Testing\n",
    "recommender = TfidfRecommender(df)\n",
    "print(recommender.get_recommendations(\"The Matrix\", 5))\n",
    "print(recommender.get_recommendations(\"The Godfather\", 5))\n",
    "print(recommender.get_recommendations(\"The Dark Knight Rises\", 5))\n",
    "print(recommender.get_recommendations(\"Spectre\", 5))\n",
    "print(recommender.get_recommendations(\"Toy Story\", 5))\n",
    "print(recommender.get_recommendations(\"Runaway Bride\", 5))"
   ]
  }
 ],
 "metadata": {
  "kernelspec": {
   "display_name": "venv",
   "language": "python",
   "name": "python3"
  },
  "language_info": {
   "codemirror_mode": {
    "name": "ipython",
    "version": 3
   },
   "file_extension": ".py",
   "mimetype": "text/x-python",
   "name": "python",
   "nbconvert_exporter": "python",
   "pygments_lexer": "ipython3",
   "version": "3.11.6"
  }
 },
 "nbformat": 4,
 "nbformat_minor": 2
}
