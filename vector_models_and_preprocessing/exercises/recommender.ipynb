{
 "cells": [
  {
   "cell_type": "markdown",
   "metadata": {},
   "source": [
    "Exercise Prompt Hints\n",
    "- Key step: how to combine movie data into a single string\n",
    "- Recall TfidfVectorizer expects one string per 'document'\n",
    "- Transform (into a vectors) the strings using TF-IDF\n",
    "- Assume the query is always an existing movie in the database\n",
    "- E.g. query = \"Scream 3\", then recommend other movies based on this\n",
    "- Get the TF-IDF representation of Scream 3\n",
    "- Compute similarity between Scream 3 and all other vectors\n",
    "- Sort by similarity\n",
    "- Print out the top 5 closest movies\n",
    "- Try movies from other genres"
   ]
  },
  {
   "cell_type": "code",
   "execution_count": null,
   "metadata": {},
   "outputs": [],
   "source": [
    "# Gathering data\n",
    "!wget https://lazyprogrammer.me/course_files/nlp/tmdb_5000_movies.csv"
   ]
  },
  {
   "cell_type": "code",
   "execution_count": null,
   "metadata": {},
   "outputs": [],
   "source": [
    "# creating data frame\n",
    "import numpy as np\n",
    "import pandas as pd\n",
    "\n",
    "df = pd.read_csv('tmdb_5000_movies.csv')\n",
    "df.head()"
   ]
  },
  {
   "cell_type": "code",
   "execution_count": 27,
   "metadata": {},
   "outputs": [],
   "source": [
    "# Creating a function to extract string to vectorize\n",
    "import json\n",
    "\n",
    "def extract_movie_string(df, movie_title):\n",
    "    row_index = df[df[\"title\"] == movie_title].index[0]\n",
    "    movie_string = (\n",
    "        \" \".join(str(genre[\"name\"]) for genre in json.loads(df.loc[row_index, \"genres\"]))\n",
    "        + \" \" + \" \".join(str(keyword[\"name\"]) for keyword in json.loads(df.loc[row_index, \"keywords\"]))\n",
    "        + \" \" + str(df.loc[row_index, \"overview\"])\n",
    "        + \" \" + str(df.loc[row_index, \"tagline\"])\n",
    "    )\n",
    "    return movie_string\n",
    "\n",
    "\n",
    "    "
   ]
  },
  {
   "cell_type": "code",
   "execution_count": 28,
   "metadata": {},
   "outputs": [
    {
     "name": "stdout",
     "output_type": "stream",
     "text": [
      "Action Adventure Fantasy Science Fiction culture clash future space war space colony society space travel futuristic romance space alien tribe alien planet cgi marine soldier battle love affair anti war power relations mind and soul 3d In the 22nd century, a paraplegic Marine is dispatched to the moon Pandora on a unique mission, but becomes torn between following orders and protecting an alien civilization. Enter the World of Pandora.\n"
     ]
    }
   ],
   "source": [
    "# Example\n",
    "print(extract_movie_string(df, \"Avatar\"))\n"
   ]
  },
  {
   "cell_type": "code",
   "execution_count": null,
   "metadata": {},
   "outputs": [],
   "source": [
    "# Getting the movie strings\n",
    "\n",
    "movie_strings = pd.DataFrame(\n",
    "    [extract_movie_string(df, movie) for movie in df[\"title\"]], \n",
    "    columns=[\"movie_string\"]\n",
    ") \n",
    "movie_strings.head()\n",
    "    \n"
   ]
  },
  {
   "cell_type": "code",
   "execution_count": 33,
   "metadata": {},
   "outputs": [],
   "source": [
    "# Creating vectorizer object\n",
    "from sklearn.feature_extraction.text import TfidfVectorizer\n",
    "\n",
    "tfidf = TfidfVectorizer(stop_words=\"english\")"
   ]
  },
  {
   "cell_type": "code",
   "execution_count": 34,
   "metadata": {},
   "outputs": [
    {
     "name": "stdout",
     "output_type": "stream",
     "text": [
      "(4803, 23490)\n"
     ]
    }
   ],
   "source": [
    "# Vectorizing movie strings\n",
    "movie_vectors = tfidf.fit_transform(movie_strings[\"movie_string\"])\n"
   ]
  },
  {
   "cell_type": "code",
   "execution_count": 55,
   "metadata": {},
   "outputs": [],
   "source": [
    "# Evaluating similarity\n",
    "from sklearn.metrics.pairwise import cosine_similarity, euclidean_distances\n",
    "\n",
    "def get_recommendations(movie_title, n_recommendations):\n",
    "    movie_index = df[df[\"title\"] == movie_title].index[0]\n",
    "    \n",
    "    distances = abs(cosine_similarity(movie_vectors[movie_index], movie_vectors).reshape((-1,)))\n",
    "    movie_indices = sorted(list(enumerate(distances)), key=lambda x: x[1], reverse=True)[1:n_recommendations+1]\n",
    "    recommended_movies = [df.iloc[i[0]][\"title\"] for i in movie_indices]\n",
    "    return recommended_movies"
   ]
  },
  {
   "cell_type": "code",
   "execution_count": 56,
   "metadata": {},
   "outputs": [
    {
     "name": "stdout",
     "output_type": "stream",
     "text": [
      "['Mission to Mars', 'Aliens', 'Moonraker', 'Alien³', 'Alien']\n",
      "[\"Pirates of the Caribbean: Dead Man's Chest\", 'Pirates of the Caribbean: The Curse of the Black Pearl', 'Pirates of the Caribbean: On Stranger Tides', 'The Pirates! In an Adventure with Scientists!', \"Nim's Island\"]\n",
      "['The Dark Knight', 'Batman Returns', 'Batman', 'Batman', 'Batman Forever']\n",
      "['Restless', 'Never Say Never Again', 'Dr. No', 'Skyfall', 'From Russia with Love']\n",
      "['Avengers: Age of Ultron', 'X-Men', 'Fantastic Four', 'Captain America: Civil War', 'X-Men: Apocalypse']\n"
     ]
    }
   ],
   "source": [
    "# Testing\n",
    "print(get_recommendations(\"Avatar\", 5))\n",
    "print(get_recommendations(\"Pirates of the Caribbean: At World's End\", 5))\n",
    "print(get_recommendations(\"The Dark Knight Rises\", 5))\n",
    "print(get_recommendations(\"Spectre\", 5))\n",
    "print(get_recommendations(\"The Avengers\", 5))\n",
    "\n"
   ]
  },
  {
   "cell_type": "code",
   "execution_count": 57,
   "metadata": {},
   "outputs": [],
   "source": [
    "# Refactorting\n",
    "\n",
    "class Recommender:    \n",
    "    def __init__(self, df):\n",
    "        self.df = df\n",
    "        self.tfidf = TfidfVectorizer(stop_words=\"english\")\n",
    "        self.__create_movie_vectors()\n",
    "        \n",
    "    def __extract_movie_string(self, movie_title):\n",
    "        row_index = self.df[self.df[\"title\"] == movie_title].index[0]\n",
    "        movie_string = (\n",
    "            \" \".join(str(genre[\"name\"]) for genre in json.loads(self.df.loc[row_index, \"genres\"]))\n",
    "            + \" \" + \" \".join(str(keyword[\"name\"]) for keyword in json.loads(self.df.loc[row_index, \"keywords\"]))\n",
    "            + \" \" + str(self.df.loc[row_index, \"overview\"])\n",
    "            + \" \" + str(self.df.loc[row_index, \"tagline\"])\n",
    "        )\n",
    "        return movie_string\n",
    "    \n",
    "    def __create_movie_strings(self):\n",
    "        self.movie_strings = pd.DataFrame(\n",
    "            [self.__extract_movie_string(movie) for movie in self.df[\"title\"]], \n",
    "            columns=[\"movie_string\"]\n",
    "        ) \n",
    "    \n",
    "    def __create_movie_vectors(self):\n",
    "        self.__create_movie_strings()\n",
    "        self.movie_vectors = self.tfidf.fit_transform(self.movie_strings[\"movie_string\"])\n",
    "        \n",
    "    def get_recommendations(self, movie_title, n_recommendations):\n",
    "        movie_index = self.df[self.df[\"title\"] == movie_title].index[0]\n",
    "        \n",
    "        distances = abs(cosine_similarity(self.movie_vectors[movie_index], self.movie_vectors).reshape((-1,)))\n",
    "        movie_indices = sorted(list(enumerate(distances)), key=lambda x: x[1], reverse=True)[1:n_recommendations+1]\n",
    "        recommended_movies = [self.df.iloc[i[0]][\"title\"] for i in movie_indices]\n",
    "        return recommended_movies"
   ]
  },
  {
   "cell_type": "code",
   "execution_count": 58,
   "metadata": {},
   "outputs": [
    {
     "name": "stdout",
     "output_type": "stream",
     "text": [
      "['Mission to Mars', 'Aliens', 'Moonraker', 'Alien³', 'Alien']\n",
      "[\"Pirates of the Caribbean: Dead Man's Chest\", 'Pirates of the Caribbean: The Curse of the Black Pearl', 'Pirates of the Caribbean: On Stranger Tides', 'The Pirates! In an Adventure with Scientists!', \"Nim's Island\"]\n",
      "['The Dark Knight', 'Batman Returns', 'Batman', 'Batman', 'Batman Forever']\n",
      "['Restless', 'Never Say Never Again', 'Dr. No', 'Skyfall', 'From Russia with Love']\n",
      "['Avengers: Age of Ultron', 'X-Men', 'Fantastic Four', 'Captain America: Civil War', 'X-Men: Apocalypse']\n"
     ]
    }
   ],
   "source": [
    "# Testing\n",
    "recommender = Recommender(df)\n",
    "print(recommender.get_recommendations(\"Avatar\", 5))\n",
    "print(recommender.get_recommendations(\"Pirates of the Caribbean: At World's End\", 5))\n",
    "print(recommender.get_recommendations(\"The Dark Knight Rises\", 5))\n",
    "print(recommender.get_recommendations(\"Spectre\", 5))\n",
    "print(recommender.get_recommendations(\"The Avengers\", 5))"
   ]
  }
 ],
 "metadata": {
  "kernelspec": {
   "display_name": "venv",
   "language": "python",
   "name": "python3"
  },
  "language_info": {
   "codemirror_mode": {
    "name": "ipython",
    "version": 3
   },
   "file_extension": ".py",
   "mimetype": "text/x-python",
   "name": "python",
   "nbconvert_exporter": "python",
   "pygments_lexer": "ipython3",
   "version": "3.11.6"
  }
 },
 "nbformat": 4,
 "nbformat_minor": 2
}
