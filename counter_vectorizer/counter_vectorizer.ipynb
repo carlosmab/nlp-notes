{
 "cells": [
  {
   "attachments": {},
   "cell_type": "markdown",
   "metadata": {},
   "source": [
    "# Counter Vectorizer\n",
    "\n",
    "## The problem\n",
    "\n",
    "Discriminates documents from a list between \"sports\", \"arts\", and \"science\" labels"
   ]
  },
  {
   "cell_type": "markdown",
   "metadata": {},
   "source": []
  },
  {
   "cell_type": "code",
   "execution_count": 17,
   "metadata": {},
   "outputs": [],
   "source": [
    "# Documents\n",
    "\n",
    "sports = [\n",
    "    \"The New York Yankees won the World Series.\",\n",
    "    \"The Golden State Warriors won the NBA championship.\",\n",
    "    \"Usain Bolt won the gold medal in the 100-meter dash.\",\n",
    "    \"Serena Williams won the Wimbledon women's singles championship.\",\n",
    "    \"Lionel Messi won the Ballon d'Or award.\",\n",
    "]\n",
    "\n",
    "science = [\n",
    "    \"Scientists discovered a new planet outside of our solar system.\",\n",
    "    \"Researchers developed a new vaccine for malaria.\",\n",
    "    \"Engineers created a new type of solar cell that is more efficient.\",\n",
    "    \"Physicists found a new way to create fusion energy.\",\n",
    "    \"Biologists sequenced the genome of the human microbiome.\",\n",
    "]\n",
    "\n",
    "art = [\n",
    "    \"Pablo Picasso painted Guernica.\",\n",
    "    \"Vincent van Gogh painted The Starry Night.\",\n",
    "    \"Michelangelo sculpted David.\",\n",
    "    \"Leonardo da Vinci painted the Mona Lisa.\",\n",
    "    \"Frida Kahlo painted Self-Portrait with Thorn Necklace and Hummingbird.\",\n",
    "]\n",
    "\n",
    "documents = sports + science + art\n",
    "\n",
    "sports_words = [\n",
    "    \"won\",\n",
    "    \"championship\",\n",
    "    \"medal\",\n",
    "]\n",
    "\n",
    "science_words = [\n",
    "    \"discovered\",\n",
    "    \"energy\",\n",
    "    \"planet\",\n",
    "    \"cell\",\n",
    "    \"vaccine\",\n",
    "]\n",
    "\n",
    "art_words = [\n",
    "    \"painted\",\n",
    "    \"sculpted\",\n",
    "]\n",
    "\n",
    "\n",
    "vocabulary = sports_words + science_words + art_words"
   ]
  },
  {
   "cell_type": "code",
   "execution_count": 18,
   "metadata": {},
   "outputs": [
    {
     "name": "stdout",
     "output_type": "stream",
     "text": [
      "[[1. 0. 0. 0. 0. 0. 0. 0. 0. 0.]\n",
      " [1. 1. 0. 0. 0. 0. 0. 0. 0. 0.]\n",
      " [1. 0. 1. 0. 0. 0. 0. 0. 0. 0.]\n",
      " [1. 1. 0. 0. 0. 0. 0. 0. 0. 0.]\n",
      " [1. 0. 0. 0. 0. 0. 0. 0. 0. 0.]\n",
      " [0. 0. 0. 1. 0. 1. 0. 0. 0. 0.]\n",
      " [0. 0. 0. 0. 0. 0. 0. 1. 0. 0.]\n",
      " [0. 0. 0. 0. 0. 0. 1. 0. 0. 0.]\n",
      " [0. 0. 0. 0. 1. 0. 0. 0. 0. 0.]\n",
      " [0. 0. 0. 0. 0. 0. 0. 0. 0. 0.]\n",
      " [0. 0. 0. 0. 0. 0. 0. 0. 1. 0.]\n",
      " [0. 0. 0. 0. 0. 0. 0. 0. 1. 0.]\n",
      " [0. 0. 0. 0. 0. 0. 0. 0. 0. 1.]\n",
      " [0. 0. 0. 0. 0. 0. 0. 0. 1. 0.]\n",
      " [0. 0. 0. 0. 0. 0. 0. 0. 1. 0.]]\n"
     ]
    }
   ],
   "source": [
    "# Counting the number of occurrences of each word in the documents\n",
    "from collections import Counter\n",
    "from scipy.sparse import lil_matrix\n",
    "import numpy as np\n",
    "import string\n",
    "\n",
    "bag_words = lil_matrix((len(documents), len(vocabulary)))\n",
    "\n",
    "def get_words(text: str) -> list:\n",
    "    punctuation = string.punctuation\n",
    "    clean_text = text.translate(str.maketrans('', '', punctuation))\n",
    "    return clean_text.lower().split()\n",
    "\n",
    "for index, document in enumerate(documents):\n",
    "    counter = Counter(get_words(document))\n",
    "    bag_words[index,:] = [counter[word] for word in vocabulary]\n",
    "\n",
    "bag_words = bag_words.tocsr()\n",
    "print(bag_words.toarray())\n",
    "    \n",
    "    "
   ]
  }
 ],
 "metadata": {
  "kernelspec": {
   "display_name": "Python 3",
   "language": "python",
   "name": "python3"
  },
  "language_info": {
   "codemirror_mode": {
    "name": "ipython",
    "version": 3
   },
   "file_extension": ".py",
   "mimetype": "text/x-python",
   "name": "python",
   "nbconvert_exporter": "python",
   "pygments_lexer": "ipython3",
   "version": "3.10.6"
  },
  "orig_nbformat": 4
 },
 "nbformat": 4,
 "nbformat_minor": 2
}
